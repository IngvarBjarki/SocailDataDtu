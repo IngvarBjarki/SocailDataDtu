{
 "cells": [
  {
   "cell_type": "markdown",
   "metadata": {},
   "source": [
    "# Assignment 1.\n",
    "\n",
    "## Formalia:\n",
    "\n",
    "Please read the [assignment overview page](https://github.com/suneman/socialdataanalysis2017/wiki/Assignments) carefully before proceeding. This page contains information about formatting (including formats etc), group sizes, and many other aspects of handing in the assignment. \n",
    "\n",
    "_If you fail to follow these simple instructions, it will negatively impact your grade!_\n",
    "\n",
    "**Due date and time**: The assignment is due on Monday Februrary 27th, 2017 at 23:55. Hand in your IPython notebook file (with extension `.ipynb`) via [`http://peergrade.io`](http://peergrade.io/).\n",
    "\n",
    "**Peergrading date and time**: _Remember that after handing in you have 24 hours to evaluate a few assignments written by other members of the class_. Thus, the peer evaluations are due on Monday March 6th, 2017 at 23:55."
   ]
  },
  {
   "cell_type": "markdown",
   "metadata": {},
   "source": [
    "## Assignment 1A: Anscombe's quartet\n",
    "\n",
    "Full details, see Week 2's exercises.\n",
    "\n",
    "Start by downloading these four datasets: [Data 1](https://raw.githubusercontent.com/suneman/socialdataanalysis2017/master/files/data1.tsv), [Data 2](https://raw.githubusercontent.com/suneman/socialdataanalysis2017/master/files/data2.tsv), [Data 3](https://raw.githubusercontent.com/suneman/socialdataanalysis2017/master/files/data3.tsv), and [Data 4](https://raw.githubusercontent.com/suneman/socialdataanalysis2017/master/files/data4.tsv). The format is `.tsv`, which stands for _tab separated values_. \n",
    "Each file has two columns (separated using the tab character). The first column is $x$-values, and the second column is $y$-values.  \n",
    "\n",
    "It's ok to just download these files to disk by right-clicking on each one, but if you use Python and _urllib_ or _urllib2_ to get them, I'll really be impressed. If you don't know how to do that, I recommend opening up Google and typing \"download file using Python\" or something like that. When interpreting the search results remember that _stackoverflow_ is your friend.\n",
    "\n",
    "* Using the `numpy` function `mean`, calculate the mean of both $x$-values and $y$-values for each dataset. \n",
    "* Use python string formatting to print precisely two decimal places of these results to the output cell. Check out [this _stackoverflow_ page](http://stackoverflow.com/questions/8885663/how-to-format-a-floating-number-to-fixed-width-in-python) for help with the string formatting. \n",
    "* Now calculate the variance for all of the various sets of $x$- and $y$-values (to three decimal places).\n",
    "* Use `numpy` to calculate the [Pearson correlation](https://en.wikipedia.org/wiki/Pearson_product-moment_correlation_coefficient) between $x$- and $y$-values for all four data sets (also to three decimal places).\n",
    "* The next step is use _linear regression_ to fit a straight line $f(x) = a x + b$ through each dataset and report $a$ and $b$ (to two decimal places). An easy way to fit a straight line in Python is using `scipy`'s `linregress`. It works like this\n",
    "```\n",
    "from scipy import stats\n",
    "slope, intercept, r_value, p_value, std_err = stats.linregress(x,y)\n",
    "```\n",
    "* Finally, it's time to plot the four datasets using `matplotlib.pyplot`. Use a two-by-two [`subplot`](http://matplotlib.org/examples/pylab_examples/subplot_demo.html) to put all of the plots nicely in a grid and use the same $x$ and $y$ range for all four plots. And include the linear fit in all four plots. (To get a sense of what I think the plot should look like, you can take a look at my version [here](https://raw.githubusercontent.com/suneman/socialdataanalysis2017/master/files/anscombe.png).)\n",
    "* Explain - in your own words - what you think my point with this exercise is."
   ]
  },
  {
   "cell_type": "code",
   "execution_count": 1,
   "metadata": {
    "collapsed": false
   },
   "outputs": [
    {
     "name": "stdout",
     "output_type": "stream",
     "text": [
      "The mean for x is 9.00\n",
      "The mean for y is 7.50\n",
      "The variance for x is 10.000\n",
      "The variance for y is 3.752\n",
      "the pearson correlation between x and y is 0.816\n",
      "[  0.           0.40816327   0.81632653   1.2244898    1.63265306\n",
      "   2.04081633   2.44897959   2.85714286   3.26530612   3.67346939\n",
      "   4.08163265   4.48979592   4.89795918   5.30612245   5.71428571\n",
      "   6.12244898   6.53061224   6.93877551   7.34693878   7.75510204\n",
      "   8.16326531   8.57142857   8.97959184   9.3877551    9.79591837\n",
      "  10.20408163  10.6122449   11.02040816  11.42857143  11.83673469\n",
      "  12.24489796  12.65306122  13.06122449  13.46938776  13.87755102\n",
      "  14.28571429  14.69387755  15.10204082  15.51020408  15.91836735\n",
      "  16.32653061  16.73469388  17.14285714  17.55102041  17.95918367\n",
      "  18.36734694  18.7755102   19.18367347  19.59183673  20.        ]\n"
     ]
    },
    {
     "data": {
      "image/png": "[encoded data removed]",
      "text/plain": [
       "<matplotlib.figure.Figure at 0x7fa9fd0>"
      ]
     },
     "metadata": {},
     "output_type": "display_data"
    }
   ],
   "source": [
    "import urllib2\n",
    "import csv\n",
    "import numpy as np\n",
    "import matplotlib.pyplot as plt\n",
    "from scipy import stats\n",
    "\n",
    "x_val = [] # for storing the data we get from the dataset1\n",
    "y_val = []\n",
    "\n",
    "x_datasets = [x_val,[],[],[]] # all datasets for x value\n",
    "y_datasets = [y_val,[],[],[]] # all datasets for y value\n",
    "\n",
    "links = ['https://raw.githubusercontent.com/suneman/socialdataanalysis2017/master/files/data1.tsv',\n",
    "         \"https://raw.githubusercontent.com/suneman/socialdataanalysis2017/master/files/data2.tsv\",\n",
    "         \"https://raw.githubusercontent.com/suneman/socialdataanalysis2017/master/files/data3.tsv\",\n",
    "         \"https://raw.githubusercontent.com/suneman/socialdataanalysis2017/master/files/data4.tsv\"\n",
    "        ]\n",
    "\n",
    "for i in range(len(x_datasets)):\n",
    "    response = urllib2.urlopen(links[i])\n",
    "    data = response.read()\n",
    "    p = csv.reader(data, delimiter='\\t')\n",
    "    reader = csv.reader(data.splitlines(), delimiter='\\t')\n",
    "\n",
    "    for row in reader:\n",
    "        x_datasets[i].append(row[0])\n",
    "        y_datasets[i].append(row[1])\n",
    "\n",
    "#Lets calculate the mean, variance and pearson correlation but only for our first dataset!\n",
    "x_val = np.array(x_val).astype(np.int)\n",
    "y_val = np.array(y_val).astype(np.float)\n",
    "\n",
    "print \"The mean for x is %4.2f\"% np.mean(x_val)\n",
    "print \"The mean for y is %4.2f\"%  np.mean(y_val)\n",
    "print \"The variance for x is %4.3f\" %np.var(x_val)\n",
    "print \"The variance for y is %4.3f\" %np.var(y_val)\n",
    "print \"the pearson correlation between x and y is %4.3f\" %np.corrcoef(x_val, y_val)[0, 1]\n",
    "\n",
    "\n",
    "#Lets find the linear regression for all datasets!!\n",
    "x1 = np.linspace(0.0, 20.0) #the avilable x value is the same for all datasets\n",
    "data_plot = [[],[],[],[]] #we use the stats.linregress to fill into these lists\n",
    "print x1\n",
    "for i in range(len(data_plot)):\n",
    "    slope, intercept, r_value, p_value, std_err = stats.linregress(np.array(x_datasets[i]).astype(np.int),np.array(y_datasets[i]).astype(np.float))\n",
    "    data_plot[i] = slope*x1 + intercept\n",
    "    \n",
    "    plt.subplot(2, 2, 1+i)\n",
    "    plt.plot(x1,data_plot[i])\n",
    "    plt.scatter(x_datasets[i], y_datasets[i], color=\"black\")\n",
    "    \n",
    "plt.show()\n",
    "\n"
   ]
  },
  {
   "cell_type": "markdown",
   "metadata": {},
   "source": [
    "## Assignment 1B: KNN\n",
    "\n",
    "For full details, see Week 4's exercises.\n",
    "\n",
    "The goal of this exercise is to create a useful real-world version of the example on pp153 in DSFS. We know from Week 3's exercises that the focus crimes `PROSTITUTION`, `DRUG/NARCOTIC` and `DRIVING UNDER THE INFLUENCE` tend to be concentrated in certain neighborhoods, so we focus on those crime types since they will make the most sense a KNN - map. \n",
    "\n",
    "* Begin by using `geoplotlib` to plot all incidents of the three crime types on their own map using [`geoplotlib.kde()`](https://github.com/andrea-cuttone/geoplotlib/blob/master/examples/kde.py). This will give you an idea of how the varioius crimes are distributed across the city.\n",
    "* Next, it's time to set up your model based on the actual data. You can use the code supplied in the book or try out `scikit-learn`'s [`KNeighborsClassifier`](http://scikit-learn.org/stable/modules/generated/sklearn.neighbors.KNeighborsClassifier.html). If you end up using the latter (recommended), you may want to check out [this example](http://ogrisel.github.io/scikit-learn.org/sklearn-tutorial/auto_examples/tutorial/plot_knn_iris.html) to get a sense of the usage.\n",
    "  - You don't have to think a lot about testing/trainig and accuracy for this exercise. We're mostly interested in creating a map that's not too problematic. **But** do calculate the number of observations of each crime-type respectively. You'll find that the levels of each crime varies (lots of drug arrests, an intermediate amount of prostitiution registered, and very little drunk driving in the dataset). Since the algorithm classifies each point according to it's neighbors, what could a consequence of this imbalance in the number of examples from each class mean for your map?\n",
    "  - You can make the dataset 'balanced' by grabbing an equal number of examples from each crime category. How do you expect that will change the KNN result? In which situations is the balanced map useful - and when is the map that data in proportion to occurrences useful? Choose which map you will work on in the following. \n",
    "* Now create an approximately square grid of point that runs over SF. You get to decide the grid-size, but I recommend somewhere between $50 \\times 50$ and $100 \\times 100$ points. I recommend plotting using `geoplotlib.dot()`. To plot in three distinct the colors, I simply ran the command three times, once for each color.\n",
    "* Visualize your model by coloring the grid, coloring each grid point according to it's category. Create a plot of this kind for models where each point is colored according to the majority of its 5, 10, and 30 nearest neighbors. Describe what happens to the map as you increase the number of neighbors, `K`.  \n",
    "\n",
    "**NOTE**: To get a map only of SF, you need to create your own * BoundingBox * which can be done in the following way:\n",
    "```\n",
    "bbox = BoundingBox(north=max_lat, west=min_lon, south=min_lat, east=max_lon)\n",
    "geoplotlib.set_bbox(bbox)\n",
    "```\n",
    "\n"
   ]
  },
  {
   "cell_type": "markdown",
   "metadata": {},
   "source": [
    "# Assignment 1C: Linear Regression\n",
    "\n",
    "Full details, see Week 4's excercises.\n",
    "\n",
    "Start by picking an area and a crime type, I recommend starting with *all of SF* and `LARCENY/THEFT` so you don't have too many zero counts. Similarly, I recommend using 2015 data for training (big feel free grab everything if you feel a need for big data in your life).\n",
    "\n",
    "We will only make predictions for the interval 5am-5pm where the crime count for `LARCENY/THEFT` is more or less linearly increasing.\n",
    "\n",
    "We start by creating a scatterplot. \n",
    "- Put time-of-day (in the range 05:00-17:00) on the $x$-axis. \n",
    "- Next you go over the training data and bin and observed number of `LARCENY/THEFT` crimes per hour. You should have 12 data-points per day of training data.\n",
    "- Plot the (time-of-day, bin-count) tuples. Does it look like there is a correlation? \n",
    "- Report the Pearson-correlation. \n",
    "\n",
    "In the book, the, simple linear model model is described as\n",
    "\n",
    "$$y_i = \\beta x_i + \\alpha + \\epsilon_i$$\n",
    "\n",
    "In our example, each observation (the $(x_i, y_i)$ pair) is found by going over the dataset, day by day, and for each hour registering *time-of-day* ($x_i$) and *number of `LARCENY/THEFT` crimes in that hour* ($y_i$). As mentioned above, this means that you should extract $12\\times 365 = 4\\,380$ datapoints from the 2015 data when you prepare the data to fit the model.\n",
    "\n",
    "So your task is to finally \n",
    "* Fit this model to the data (and report $\\alpha, \\beta$).\n",
    "* Add the straight line to your scatterplot (similar to fig 14-1 in the book). "
   ]
  },
  {
   "cell_type": "markdown",
   "metadata": {},
   "source": [
    "# Assignment 1D: Multiple Regression\n",
    "\n",
    "Let's improve the model by incorporating the total amount of crime in the area we're considering. \n",
    "\n",
    "In the book, the more general model with $k$ input variables is described as\n",
    "\n",
    "$$y_i = \\alpha + \\beta_1x_{i1} + \\ldots + \\beta_k x_{ik} + \\epsilon_i.$$\n",
    "\n",
    "We will be looking at the case when $k=2$, so our model is simply\n",
    "\n",
    "$$y_i = \\alpha + \\beta_1x_{i1} + \\beta_2 x_{i2} + \\epsilon_i.$$\n",
    "\n",
    "In our example, we want to include *both* the time of day (as above) and the total amount of crime in our model. This means that the $(x_{i1}, x_{i2}, y_{i})$ variables in the model has the following correspondence:\n",
    "* $x_{i1}$ corresponds to time-of-day (input variable)\n",
    "* $x_{i2}$ corresponds to total amount of crime in the area (input variable)\n",
    "* $y_i$ corresponds to the number of `LARCENY/THEFT` crimes in that bin (output variable)\n",
    "\n",
    "As above, one observation is a $(x_{i1}, x_{i2}, y_{i})$ and you should have 12 for each day in the dataset.\n",
    "\n",
    "In order to make the model useful, you have transform your input variables a bit before fitting (as [described in detail in the Week 4 exercises](http://nbviewer.jupyter.org/github/suneman/socialdataanalysis2017/blob/master/lectures/Week4.ipynb)). Specifically,\n",
    "\n",
    "* Firstly, instead of using total crime vs. the crime we're considering, remember to use differences between _average_ total crime and observed crime.\n",
    "* Secondly, remember to rescale your input variables.\n",
    "\n",
    "Explain in your own words the reasoning between the two bullets above.\n",
    "\n",
    "Finally, create and fit the data set using multiple regression. Report $\\alpha, \\beta_1, \\beta_2$. "
   ]
  },
  {
   "cell_type": "markdown",
   "metadata": {},
   "source": [
    "# Assignment 1E: Simple evaluation of regression models\n",
    "\n",
    "\n",
    "In this assignment, compare the accuary of the simple linear regression with the multiple regression to see what we have gained by increasing the model complexity. \n",
    "\n",
    "We test on two separate weeks of data from 2016. We use the first 7 days (Week A) of January 2016 and first 7 days of June 2016 (Week B). \n",
    "\n",
    "We measure error for a time-bin simply as the absolute difference between predicted crime and observed crime. The error for a week is simply the average error over all time-bins during that week.\n",
    "* Report the performance of Simple & Multiple Regression for Weeks A & B (four results total).\n",
    "* Comment on your results."
   ]
  },
  {
   "cell_type": "code",
   "execution_count": null,
   "metadata": {
    "collapsed": true
   },
   "outputs": [],
   "source": []
  }
 ],
 "metadata": {
  "kernelspec": {
   "display_name": "Python 2",
   "language": "python",
   "name": "python2"
  },
  "language_info": {
   "codemirror_mode": {
    "name": "ipython",
    "version": 2
   },
   "file_extension": ".py",
   "mimetype": "text/x-python",
   "name": "python",
   "nbconvert_exporter": "python",
   "pygments_lexer": "ipython2",
   "version": "2.7.13"
  }
 },
 "nbformat": 4,
 "nbformat_minor": 2
}
